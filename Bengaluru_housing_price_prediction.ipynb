{
  "nbformat": 4,
  "nbformat_minor": 0,
  "metadata": {
    "colab": {
      "name": "Bengaluru-housing-price-prediction.ipynb",
      "provenance": [],
      "authorship_tag": "ABX9TyMLA9JrOWoytSUgQPr5SxwR",
      "include_colab_link": true
    },
    "kernelspec": {
      "name": "python3",
      "display_name": "Python 3"
    },
    "language_info": {
      "name": "python"
    }
  },
  "cells": [
    {
      "cell_type": "markdown",
      "metadata": {
        "id": "view-in-github",
        "colab_type": "text"
      },
      "source": [
        "<a href=\"https://colab.research.google.com/github/kshitijzutshi/bengaluru-housing-price-prediction/blob/main/Bengaluru_housing_price_prediction.ipynb\" target=\"_parent\"><img src=\"https://colab.research.google.com/assets/colab-badge.svg\" alt=\"Open In Colab\"/></a>"
      ]
    },
    {
      "cell_type": "markdown",
      "metadata": {
        "id": "xVFUd6lc6Xyn"
      },
      "source": [
        "**About this Project**\n",
        "\n",
        "What are the things that a potential home buyer considers before purchasing a house? The location, the size of the property, vicinity to offices, schools, parks, restaurants, hospitals or the stereotypical white picket fence? What about the most important factor — the price?\n",
        "\n",
        "Now with the lingering impact of demonetization, the enforcement of the Real Estate (Regulation and Development) Act (RERA), and the lack of trust in property developers in the city, housing units sold across India in 2017 dropped by 7 percent. In fact, the property prices in Bengaluru fell by almost 5 percent in the second half of 2017, said a study published by property consultancy Knight Frank.\n",
        "\n",
        "For example, for a potential homeowner, over 9,000 apartment projects and flats for sale are available in the range of ₹42-52 lakh, followed by over 7,100 apartments that are in the ₹52-62 lakh budget segment, says a report by property website Makaan. According to the study, there are over 5,000 projects in the ₹15-25 lakh budget segment followed by those in the ₹34-43 lakh budget category.\n",
        "\n",
        "Buying a home, especially in a city like Bengaluru, is a tricky choice. While the major factors are usually the same for all metros, there are others to be considered for the Silicon Valley of India. With its help millennial crowd, vibrant culture, great climate and a slew of job opportunities, it is difficult to ascertain the price of a house in Bengaluru.\n",
        "\n",
        "Reference: \n",
        "\n",
        "https://www.youtube.com/playlist?list=PLeo1K3hjS3uu7clOTtwsp94PcHbzqpAdg"
      ]
    },
    {
      "cell_type": "code",
      "metadata": {
        "colab": {
          "base_uri": "https://localhost:8080/",
          "height": 293
        },
        "id": "mTWE0tQk6fbk",
        "outputId": "e9f099f4-e253-4ca0-aa46-c045f44053b9"
      },
      "source": [
        "# Import the CSV data file\n",
        "# This project is supervised learning - so we need tagged/labelled dataset\n",
        "import pandas as pd\n",
        "\n",
        "# Libraries needed for this project\n",
        "import numpy as np\n",
        "from matplotlib import pyplot as plt\n",
        "#  %matplotlib inline is a magic command for IPython \n",
        "#  that allows you to add plots to the browser interface\n",
        "%matplotlib inline \n",
        "import matplotlib\n",
        "#  figsize is a tuple of the width and height of the figure in inches\n",
        "#  Each time Matplotlib loads, it defines a runtime configuration (rc) \n",
        "#  containing the default styles for every plot element you create\n",
        "matplotlib.rcParams[\"figure.figsize\"] = (20,10)\n",
        "\n",
        "data_file_path = '../content/Bengaluru_House_Data.csv'\n",
        "df = pd.read_csv(data_file_path)\n",
        "df.describe()\n",
        "df.head()"
      ],
      "execution_count": 2,
      "outputs": [
        {
          "output_type": "execute_result",
          "data": {
            "text/html": [
              "<div>\n",
              "<style scoped>\n",
              "    .dataframe tbody tr th:only-of-type {\n",
              "        vertical-align: middle;\n",
              "    }\n",
              "\n",
              "    .dataframe tbody tr th {\n",
              "        vertical-align: top;\n",
              "    }\n",
              "\n",
              "    .dataframe thead th {\n",
              "        text-align: right;\n",
              "    }\n",
              "</style>\n",
              "<table border=\"1\" class=\"dataframe\">\n",
              "  <thead>\n",
              "    <tr style=\"text-align: right;\">\n",
              "      <th></th>\n",
              "      <th>area_type</th>\n",
              "      <th>availability</th>\n",
              "      <th>location</th>\n",
              "      <th>size</th>\n",
              "      <th>society</th>\n",
              "      <th>total_sqft</th>\n",
              "      <th>bath</th>\n",
              "      <th>balcony</th>\n",
              "      <th>price</th>\n",
              "    </tr>\n",
              "  </thead>\n",
              "  <tbody>\n",
              "    <tr>\n",
              "      <th>0</th>\n",
              "      <td>Super built-up  Area</td>\n",
              "      <td>19-Dec</td>\n",
              "      <td>Electronic City Phase II</td>\n",
              "      <td>2 BHK</td>\n",
              "      <td>Coomee</td>\n",
              "      <td>1056</td>\n",
              "      <td>2.0</td>\n",
              "      <td>1.0</td>\n",
              "      <td>39.07</td>\n",
              "    </tr>\n",
              "    <tr>\n",
              "      <th>1</th>\n",
              "      <td>Plot  Area</td>\n",
              "      <td>Ready To Move</td>\n",
              "      <td>Chikka Tirupathi</td>\n",
              "      <td>4 Bedroom</td>\n",
              "      <td>Theanmp</td>\n",
              "      <td>2600</td>\n",
              "      <td>5.0</td>\n",
              "      <td>3.0</td>\n",
              "      <td>120.00</td>\n",
              "    </tr>\n",
              "    <tr>\n",
              "      <th>2</th>\n",
              "      <td>Built-up  Area</td>\n",
              "      <td>Ready To Move</td>\n",
              "      <td>Uttarahalli</td>\n",
              "      <td>3 BHK</td>\n",
              "      <td>NaN</td>\n",
              "      <td>1440</td>\n",
              "      <td>2.0</td>\n",
              "      <td>3.0</td>\n",
              "      <td>62.00</td>\n",
              "    </tr>\n",
              "    <tr>\n",
              "      <th>3</th>\n",
              "      <td>Super built-up  Area</td>\n",
              "      <td>Ready To Move</td>\n",
              "      <td>Lingadheeranahalli</td>\n",
              "      <td>3 BHK</td>\n",
              "      <td>Soiewre</td>\n",
              "      <td>1521</td>\n",
              "      <td>3.0</td>\n",
              "      <td>1.0</td>\n",
              "      <td>95.00</td>\n",
              "    </tr>\n",
              "    <tr>\n",
              "      <th>4</th>\n",
              "      <td>Super built-up  Area</td>\n",
              "      <td>Ready To Move</td>\n",
              "      <td>Kothanur</td>\n",
              "      <td>2 BHK</td>\n",
              "      <td>NaN</td>\n",
              "      <td>1200</td>\n",
              "      <td>2.0</td>\n",
              "      <td>1.0</td>\n",
              "      <td>51.00</td>\n",
              "    </tr>\n",
              "  </tbody>\n",
              "</table>\n",
              "</div>"
            ],
            "text/plain": [
              "              area_type   availability  ... balcony   price\n",
              "0  Super built-up  Area         19-Dec  ...     1.0   39.07\n",
              "1            Plot  Area  Ready To Move  ...     3.0  120.00\n",
              "2        Built-up  Area  Ready To Move  ...     3.0   62.00\n",
              "3  Super built-up  Area  Ready To Move  ...     1.0   95.00\n",
              "4  Super built-up  Area  Ready To Move  ...     1.0   51.00\n",
              "\n",
              "[5 rows x 9 columns]"
            ]
          },
          "metadata": {
            "tags": []
          },
          "execution_count": 2
        }
      ]
    },
    {
      "cell_type": "code",
      "metadata": {
        "colab": {
          "base_uri": "https://localhost:8080/"
        },
        "id": "L6cViTTl7VNe",
        "outputId": "ac828a9c-c2f2-4a61-ab00-71ee2aac3151"
      },
      "source": [
        "df.shape"
      ],
      "execution_count": 3,
      "outputs": [
        {
          "output_type": "execute_result",
          "data": {
            "text/plain": [
              "(13320, 9)"
            ]
          },
          "metadata": {
            "tags": []
          },
          "execution_count": 3
        }
      ]
    },
    {
      "cell_type": "code",
      "metadata": {
        "colab": {
          "base_uri": "https://localhost:8080/"
        },
        "id": "GIYFLl1oDXlY",
        "outputId": "d241e812-7a49-415a-e38d-15532010070f"
      },
      "source": [
        "df.groupby('area_type')['area_type'].agg('count')"
      ],
      "execution_count": 4,
      "outputs": [
        {
          "output_type": "execute_result",
          "data": {
            "text/plain": [
              "area_type\n",
              "Built-up  Area          2418\n",
              "Carpet  Area              87\n",
              "Plot  Area              2025\n",
              "Super built-up  Area    8790\n",
              "Name: area_type, dtype: int64"
            ]
          },
          "metadata": {
            "tags": []
          },
          "execution_count": 4
        }
      ]
    },
    {
      "cell_type": "code",
      "metadata": {
        "colab": {
          "base_uri": "https://localhost:8080/",
          "height": 206
        },
        "id": "RN4FS5SMcrdp",
        "outputId": "2d24a6c4-cbe6-4832-8025-9b228a566509"
      },
      "source": [
        "# For our purpose of working, we need to drop irrelevant columns\n",
        "df1 = df.drop(['area_type', 'society', 'balcony', 'availability'], axis='columns')\n",
        "df1.head()"
      ],
      "execution_count": 5,
      "outputs": [
        {
          "output_type": "execute_result",
          "data": {
            "text/html": [
              "<div>\n",
              "<style scoped>\n",
              "    .dataframe tbody tr th:only-of-type {\n",
              "        vertical-align: middle;\n",
              "    }\n",
              "\n",
              "    .dataframe tbody tr th {\n",
              "        vertical-align: top;\n",
              "    }\n",
              "\n",
              "    .dataframe thead th {\n",
              "        text-align: right;\n",
              "    }\n",
              "</style>\n",
              "<table border=\"1\" class=\"dataframe\">\n",
              "  <thead>\n",
              "    <tr style=\"text-align: right;\">\n",
              "      <th></th>\n",
              "      <th>location</th>\n",
              "      <th>size</th>\n",
              "      <th>total_sqft</th>\n",
              "      <th>bath</th>\n",
              "      <th>price</th>\n",
              "    </tr>\n",
              "  </thead>\n",
              "  <tbody>\n",
              "    <tr>\n",
              "      <th>0</th>\n",
              "      <td>Electronic City Phase II</td>\n",
              "      <td>2 BHK</td>\n",
              "      <td>1056</td>\n",
              "      <td>2.0</td>\n",
              "      <td>39.07</td>\n",
              "    </tr>\n",
              "    <tr>\n",
              "      <th>1</th>\n",
              "      <td>Chikka Tirupathi</td>\n",
              "      <td>4 Bedroom</td>\n",
              "      <td>2600</td>\n",
              "      <td>5.0</td>\n",
              "      <td>120.00</td>\n",
              "    </tr>\n",
              "    <tr>\n",
              "      <th>2</th>\n",
              "      <td>Uttarahalli</td>\n",
              "      <td>3 BHK</td>\n",
              "      <td>1440</td>\n",
              "      <td>2.0</td>\n",
              "      <td>62.00</td>\n",
              "    </tr>\n",
              "    <tr>\n",
              "      <th>3</th>\n",
              "      <td>Lingadheeranahalli</td>\n",
              "      <td>3 BHK</td>\n",
              "      <td>1521</td>\n",
              "      <td>3.0</td>\n",
              "      <td>95.00</td>\n",
              "    </tr>\n",
              "    <tr>\n",
              "      <th>4</th>\n",
              "      <td>Kothanur</td>\n",
              "      <td>2 BHK</td>\n",
              "      <td>1200</td>\n",
              "      <td>2.0</td>\n",
              "      <td>51.00</td>\n",
              "    </tr>\n",
              "  </tbody>\n",
              "</table>\n",
              "</div>"
            ],
            "text/plain": [
              "                   location       size total_sqft  bath   price\n",
              "0  Electronic City Phase II      2 BHK       1056   2.0   39.07\n",
              "1          Chikka Tirupathi  4 Bedroom       2600   5.0  120.00\n",
              "2               Uttarahalli      3 BHK       1440   2.0   62.00\n",
              "3        Lingadheeranahalli      3 BHK       1521   3.0   95.00\n",
              "4                  Kothanur      2 BHK       1200   2.0   51.00"
            ]
          },
          "metadata": {
            "tags": []
          },
          "execution_count": 5
        }
      ]
    },
    {
      "cell_type": "markdown",
      "metadata": {
        "id": "suKBvr4VeWSU"
      },
      "source": [
        "**Data Cleansing**\n",
        "\n",
        "We need to remove data/ filter data where the value is null or not available"
      ]
    },
    {
      "cell_type": "code",
      "metadata": {
        "colab": {
          "base_uri": "https://localhost:8080/"
        },
        "id": "4fbi_gcTejAE",
        "outputId": "fbcbecec-f766-4da4-d822-847a18b002b6"
      },
      "source": [
        "df1.isnull().sum()"
      ],
      "execution_count": 6,
      "outputs": [
        {
          "output_type": "execute_result",
          "data": {
            "text/plain": [
              "location       1\n",
              "size          16\n",
              "total_sqft     0\n",
              "bath          73\n",
              "price          0\n",
              "dtype: int64"
            ]
          },
          "metadata": {
            "tags": []
          },
          "execution_count": 6
        }
      ]
    },
    {
      "cell_type": "markdown",
      "metadata": {
        "id": "f_SIt8RsfAib"
      },
      "source": [
        "**Since in the 13000 rows of data only 73 bath values are not available, we can drop them.**\n",
        "\n",
        "**Note**:  If the value of rows are small, we find the median value of all rows and then fill the null values/not available data with the median values, to prevent this data from skewing our results!"
      ]
    },
    {
      "cell_type": "code",
      "metadata": {
        "colab": {
          "base_uri": "https://localhost:8080/"
        },
        "id": "LHgMp2oVfR0t",
        "outputId": "501fe2c1-a77a-4eb6-ba76-66f8883ff2f6"
      },
      "source": [
        "df2 = df1.dropna()\n",
        "df2.isnull().sum()"
      ],
      "execution_count": 7,
      "outputs": [
        {
          "output_type": "execute_result",
          "data": {
            "text/plain": [
              "location      0\n",
              "size          0\n",
              "total_sqft    0\n",
              "bath          0\n",
              "price         0\n",
              "dtype: int64"
            ]
          },
          "metadata": {
            "tags": []
          },
          "execution_count": 7
        }
      ]
    },
    {
      "cell_type": "code",
      "metadata": {
        "colab": {
          "base_uri": "https://localhost:8080/"
        },
        "id": "zKEB8UX0f6Gm",
        "outputId": "0ce22866-8d35-4ae0-efd4-d4e2c5503c10"
      },
      "source": [
        "df2['size'].unique()"
      ],
      "execution_count": 8,
      "outputs": [
        {
          "output_type": "execute_result",
          "data": {
            "text/plain": [
              "array(['2 BHK', '4 Bedroom', '3 BHK', '4 BHK', '6 Bedroom', '3 Bedroom',\n",
              "       '1 BHK', '1 RK', '1 Bedroom', '8 Bedroom', '2 Bedroom',\n",
              "       '7 Bedroom', '5 BHK', '7 BHK', '6 BHK', '5 Bedroom', '11 BHK',\n",
              "       '9 BHK', '9 Bedroom', '27 BHK', '10 Bedroom', '11 Bedroom',\n",
              "       '10 BHK', '19 BHK', '16 BHK', '43 Bedroom', '14 BHK', '8 BHK',\n",
              "       '12 Bedroom', '13 BHK', '18 Bedroom'], dtype=object)"
            ]
          },
          "metadata": {
            "tags": []
          },
          "execution_count": 8
        }
      ]
    },
    {
      "cell_type": "code",
      "metadata": {
        "colab": {
          "base_uri": "https://localhost:8080/"
        },
        "id": "qCsl5sPOgDdr",
        "outputId": "4c736c57-ce58-4046-8e70-ae696af31492"
      },
      "source": [
        "# To handle the nameing BHK and Bedroom we rename them all as one, creating a new col.\n",
        "df2['bhk'] = df2['size'].apply(lambda x: int(x.split(' ')[0]))"
      ],
      "execution_count": 9,
      "outputs": [
        {
          "output_type": "stream",
          "text": [
            "/usr/local/lib/python3.7/dist-packages/ipykernel_launcher.py:2: SettingWithCopyWarning: \n",
            "A value is trying to be set on a copy of a slice from a DataFrame.\n",
            "Try using .loc[row_indexer,col_indexer] = value instead\n",
            "\n",
            "See the caveats in the documentation: https://pandas.pydata.org/pandas-docs/stable/user_guide/indexing.html#returning-a-view-versus-a-copy\n",
            "  \n"
          ],
          "name": "stderr"
        }
      ]
    },
    {
      "cell_type": "code",
      "metadata": {
        "colab": {
          "base_uri": "https://localhost:8080/",
          "height": 206
        },
        "id": "TUaFMPT8gvlT",
        "outputId": "cff21a61-be1e-40a7-f393-85e8ef891710"
      },
      "source": [
        "df2.head()"
      ],
      "execution_count": 10,
      "outputs": [
        {
          "output_type": "execute_result",
          "data": {
            "text/html": [
              "<div>\n",
              "<style scoped>\n",
              "    .dataframe tbody tr th:only-of-type {\n",
              "        vertical-align: middle;\n",
              "    }\n",
              "\n",
              "    .dataframe tbody tr th {\n",
              "        vertical-align: top;\n",
              "    }\n",
              "\n",
              "    .dataframe thead th {\n",
              "        text-align: right;\n",
              "    }\n",
              "</style>\n",
              "<table border=\"1\" class=\"dataframe\">\n",
              "  <thead>\n",
              "    <tr style=\"text-align: right;\">\n",
              "      <th></th>\n",
              "      <th>location</th>\n",
              "      <th>size</th>\n",
              "      <th>total_sqft</th>\n",
              "      <th>bath</th>\n",
              "      <th>price</th>\n",
              "      <th>bhk</th>\n",
              "    </tr>\n",
              "  </thead>\n",
              "  <tbody>\n",
              "    <tr>\n",
              "      <th>0</th>\n",
              "      <td>Electronic City Phase II</td>\n",
              "      <td>2 BHK</td>\n",
              "      <td>1056</td>\n",
              "      <td>2.0</td>\n",
              "      <td>39.07</td>\n",
              "      <td>2</td>\n",
              "    </tr>\n",
              "    <tr>\n",
              "      <th>1</th>\n",
              "      <td>Chikka Tirupathi</td>\n",
              "      <td>4 Bedroom</td>\n",
              "      <td>2600</td>\n",
              "      <td>5.0</td>\n",
              "      <td>120.00</td>\n",
              "      <td>4</td>\n",
              "    </tr>\n",
              "    <tr>\n",
              "      <th>2</th>\n",
              "      <td>Uttarahalli</td>\n",
              "      <td>3 BHK</td>\n",
              "      <td>1440</td>\n",
              "      <td>2.0</td>\n",
              "      <td>62.00</td>\n",
              "      <td>3</td>\n",
              "    </tr>\n",
              "    <tr>\n",
              "      <th>3</th>\n",
              "      <td>Lingadheeranahalli</td>\n",
              "      <td>3 BHK</td>\n",
              "      <td>1521</td>\n",
              "      <td>3.0</td>\n",
              "      <td>95.00</td>\n",
              "      <td>3</td>\n",
              "    </tr>\n",
              "    <tr>\n",
              "      <th>4</th>\n",
              "      <td>Kothanur</td>\n",
              "      <td>2 BHK</td>\n",
              "      <td>1200</td>\n",
              "      <td>2.0</td>\n",
              "      <td>51.00</td>\n",
              "      <td>2</td>\n",
              "    </tr>\n",
              "  </tbody>\n",
              "</table>\n",
              "</div>"
            ],
            "text/plain": [
              "                   location       size total_sqft  bath   price  bhk\n",
              "0  Electronic City Phase II      2 BHK       1056   2.0   39.07    2\n",
              "1          Chikka Tirupathi  4 Bedroom       2600   5.0  120.00    4\n",
              "2               Uttarahalli      3 BHK       1440   2.0   62.00    3\n",
              "3        Lingadheeranahalli      3 BHK       1521   3.0   95.00    3\n",
              "4                  Kothanur      2 BHK       1200   2.0   51.00    2"
            ]
          },
          "metadata": {
            "tags": []
          },
          "execution_count": 10
        }
      ]
    },
    {
      "cell_type": "code",
      "metadata": {
        "colab": {
          "base_uri": "https://localhost:8080/"
        },
        "id": "x4dLhSW2g4dy",
        "outputId": "5850c153-584f-4400-ede3-80c25625445c"
      },
      "source": [
        "df2['bhk'].unique()"
      ],
      "execution_count": 11,
      "outputs": [
        {
          "output_type": "execute_result",
          "data": {
            "text/plain": [
              "array([ 2,  4,  3,  6,  1,  8,  7,  5, 11,  9, 27, 10, 19, 16, 43, 14, 12,\n",
              "       13, 18])"
            ]
          },
          "metadata": {
            "tags": []
          },
          "execution_count": 11
        }
      ]
    },
    {
      "cell_type": "code",
      "metadata": {
        "colab": {
          "base_uri": "https://localhost:8080/",
          "height": 112
        },
        "id": "z_QCFsWxhCJv",
        "outputId": "0fab3c53-9785-4cee-9b76-39c24cc1ae20"
      },
      "source": [
        "# We have skew data, we cant have 43 rooms in 2400 sqft area, so we need to fix this error\n",
        "df2[df2.bhk>20]"
      ],
      "execution_count": 12,
      "outputs": [
        {
          "output_type": "execute_result",
          "data": {
            "text/html": [
              "<div>\n",
              "<style scoped>\n",
              "    .dataframe tbody tr th:only-of-type {\n",
              "        vertical-align: middle;\n",
              "    }\n",
              "\n",
              "    .dataframe tbody tr th {\n",
              "        vertical-align: top;\n",
              "    }\n",
              "\n",
              "    .dataframe thead th {\n",
              "        text-align: right;\n",
              "    }\n",
              "</style>\n",
              "<table border=\"1\" class=\"dataframe\">\n",
              "  <thead>\n",
              "    <tr style=\"text-align: right;\">\n",
              "      <th></th>\n",
              "      <th>location</th>\n",
              "      <th>size</th>\n",
              "      <th>total_sqft</th>\n",
              "      <th>bath</th>\n",
              "      <th>price</th>\n",
              "      <th>bhk</th>\n",
              "    </tr>\n",
              "  </thead>\n",
              "  <tbody>\n",
              "    <tr>\n",
              "      <th>1718</th>\n",
              "      <td>2Electronic City Phase II</td>\n",
              "      <td>27 BHK</td>\n",
              "      <td>8000</td>\n",
              "      <td>27.0</td>\n",
              "      <td>230.0</td>\n",
              "      <td>27</td>\n",
              "    </tr>\n",
              "    <tr>\n",
              "      <th>4684</th>\n",
              "      <td>Munnekollal</td>\n",
              "      <td>43 Bedroom</td>\n",
              "      <td>2400</td>\n",
              "      <td>40.0</td>\n",
              "      <td>660.0</td>\n",
              "      <td>43</td>\n",
              "    </tr>\n",
              "  </tbody>\n",
              "</table>\n",
              "</div>"
            ],
            "text/plain": [
              "                       location        size total_sqft  bath  price  bhk\n",
              "1718  2Electronic City Phase II      27 BHK       8000  27.0  230.0   27\n",
              "4684                Munnekollal  43 Bedroom       2400  40.0  660.0   43"
            ]
          },
          "metadata": {
            "tags": []
          },
          "execution_count": 12
        }
      ]
    },
    {
      "cell_type": "code",
      "metadata": {
        "colab": {
          "base_uri": "https://localhost:8080/"
        },
        "id": "d28HWydPhnfb",
        "outputId": "e823c3e6-af25-4e37-b462-a313207fb666"
      },
      "source": [
        "# Similarly for total sqft we have range of numbers instead of integers.\n",
        "df2.total_sqft.unique()"
      ],
      "execution_count": 13,
      "outputs": [
        {
          "output_type": "execute_result",
          "data": {
            "text/plain": [
              "array(['1056', '2600', '1440', ..., '1133 - 1384', '774', '4689'],\n",
              "      dtype=object)"
            ]
          },
          "metadata": {
            "tags": []
          },
          "execution_count": 13
        }
      ]
    },
    {
      "cell_type": "code",
      "metadata": {
        "id": "1BhxHv02hzLU"
      },
      "source": [
        "def is_float(x):\n",
        "  try:\n",
        "    float(x)\n",
        "  except:\n",
        "    return False\n",
        "  return True"
      ],
      "execution_count": 14,
      "outputs": []
    },
    {
      "cell_type": "code",
      "metadata": {
        "colab": {
          "base_uri": "https://localhost:8080/",
          "height": 363
        },
        "id": "80ABJphciFrD",
        "outputId": "10be9149-7504-469a-e989-ffc76709130b"
      },
      "source": [
        "# we use the ~ negate to get the inverted value, ie., all values which are not float\n",
        "df2[~df2['total_sqft'].apply(is_float)].head(10)\n",
        "# As we can see there are outliers, incorrect units etc. this needs to be fixed."
      ],
      "execution_count": 15,
      "outputs": [
        {
          "output_type": "execute_result",
          "data": {
            "text/html": [
              "<div>\n",
              "<style scoped>\n",
              "    .dataframe tbody tr th:only-of-type {\n",
              "        vertical-align: middle;\n",
              "    }\n",
              "\n",
              "    .dataframe tbody tr th {\n",
              "        vertical-align: top;\n",
              "    }\n",
              "\n",
              "    .dataframe thead th {\n",
              "        text-align: right;\n",
              "    }\n",
              "</style>\n",
              "<table border=\"1\" class=\"dataframe\">\n",
              "  <thead>\n",
              "    <tr style=\"text-align: right;\">\n",
              "      <th></th>\n",
              "      <th>location</th>\n",
              "      <th>size</th>\n",
              "      <th>total_sqft</th>\n",
              "      <th>bath</th>\n",
              "      <th>price</th>\n",
              "      <th>bhk</th>\n",
              "    </tr>\n",
              "  </thead>\n",
              "  <tbody>\n",
              "    <tr>\n",
              "      <th>30</th>\n",
              "      <td>Yelahanka</td>\n",
              "      <td>4 BHK</td>\n",
              "      <td>2100 - 2850</td>\n",
              "      <td>4.0</td>\n",
              "      <td>186.000</td>\n",
              "      <td>4</td>\n",
              "    </tr>\n",
              "    <tr>\n",
              "      <th>122</th>\n",
              "      <td>Hebbal</td>\n",
              "      <td>4 BHK</td>\n",
              "      <td>3067 - 8156</td>\n",
              "      <td>4.0</td>\n",
              "      <td>477.000</td>\n",
              "      <td>4</td>\n",
              "    </tr>\n",
              "    <tr>\n",
              "      <th>137</th>\n",
              "      <td>8th Phase JP Nagar</td>\n",
              "      <td>2 BHK</td>\n",
              "      <td>1042 - 1105</td>\n",
              "      <td>2.0</td>\n",
              "      <td>54.005</td>\n",
              "      <td>2</td>\n",
              "    </tr>\n",
              "    <tr>\n",
              "      <th>165</th>\n",
              "      <td>Sarjapur</td>\n",
              "      <td>2 BHK</td>\n",
              "      <td>1145 - 1340</td>\n",
              "      <td>2.0</td>\n",
              "      <td>43.490</td>\n",
              "      <td>2</td>\n",
              "    </tr>\n",
              "    <tr>\n",
              "      <th>188</th>\n",
              "      <td>KR Puram</td>\n",
              "      <td>2 BHK</td>\n",
              "      <td>1015 - 1540</td>\n",
              "      <td>2.0</td>\n",
              "      <td>56.800</td>\n",
              "      <td>2</td>\n",
              "    </tr>\n",
              "    <tr>\n",
              "      <th>410</th>\n",
              "      <td>Kengeri</td>\n",
              "      <td>1 BHK</td>\n",
              "      <td>34.46Sq. Meter</td>\n",
              "      <td>1.0</td>\n",
              "      <td>18.500</td>\n",
              "      <td>1</td>\n",
              "    </tr>\n",
              "    <tr>\n",
              "      <th>549</th>\n",
              "      <td>Hennur Road</td>\n",
              "      <td>2 BHK</td>\n",
              "      <td>1195 - 1440</td>\n",
              "      <td>2.0</td>\n",
              "      <td>63.770</td>\n",
              "      <td>2</td>\n",
              "    </tr>\n",
              "    <tr>\n",
              "      <th>648</th>\n",
              "      <td>Arekere</td>\n",
              "      <td>9 Bedroom</td>\n",
              "      <td>4125Perch</td>\n",
              "      <td>9.0</td>\n",
              "      <td>265.000</td>\n",
              "      <td>9</td>\n",
              "    </tr>\n",
              "    <tr>\n",
              "      <th>661</th>\n",
              "      <td>Yelahanka</td>\n",
              "      <td>2 BHK</td>\n",
              "      <td>1120 - 1145</td>\n",
              "      <td>2.0</td>\n",
              "      <td>48.130</td>\n",
              "      <td>2</td>\n",
              "    </tr>\n",
              "    <tr>\n",
              "      <th>672</th>\n",
              "      <td>Bettahalsoor</td>\n",
              "      <td>4 Bedroom</td>\n",
              "      <td>3090 - 5002</td>\n",
              "      <td>4.0</td>\n",
              "      <td>445.000</td>\n",
              "      <td>4</td>\n",
              "    </tr>\n",
              "  </tbody>\n",
              "</table>\n",
              "</div>"
            ],
            "text/plain": [
              "               location       size      total_sqft  bath    price  bhk\n",
              "30            Yelahanka      4 BHK     2100 - 2850   4.0  186.000    4\n",
              "122              Hebbal      4 BHK     3067 - 8156   4.0  477.000    4\n",
              "137  8th Phase JP Nagar      2 BHK     1042 - 1105   2.0   54.005    2\n",
              "165            Sarjapur      2 BHK     1145 - 1340   2.0   43.490    2\n",
              "188            KR Puram      2 BHK     1015 - 1540   2.0   56.800    2\n",
              "410             Kengeri      1 BHK  34.46Sq. Meter   1.0   18.500    1\n",
              "549         Hennur Road      2 BHK     1195 - 1440   2.0   63.770    2\n",
              "648             Arekere  9 Bedroom       4125Perch   9.0  265.000    9\n",
              "661           Yelahanka      2 BHK     1120 - 1145   2.0   48.130    2\n",
              "672        Bettahalsoor  4 Bedroom     3090 - 5002   4.0  445.000    4"
            ]
          },
          "metadata": {
            "tags": []
          },
          "execution_count": 15
        }
      ]
    },
    {
      "cell_type": "code",
      "metadata": {
        "id": "oqx65p-UHXIx"
      },
      "source": [
        "def convert_sqft_to_num(x):\n",
        "  values = x.split('-')\n",
        "  if len(values) == 2:\n",
        "    return (float(values[0]) + float(values[1]))/2\n",
        "  try:\n",
        "    return float(x)\n",
        "  except:\n",
        "    return None\n",
        "    "
      ],
      "execution_count": 16,
      "outputs": []
    },
    {
      "cell_type": "code",
      "metadata": {
        "colab": {
          "base_uri": "https://localhost:8080/"
        },
        "id": "4Fco6qryI422",
        "outputId": "35edc11e-7755-4931-d27a-7de948db316d"
      },
      "source": [
        "convert_sqft_to_num('2166-3456')"
      ],
      "execution_count": 17,
      "outputs": [
        {
          "output_type": "execute_result",
          "data": {
            "text/plain": [
              "2811.0"
            ]
          },
          "metadata": {
            "tags": []
          },
          "execution_count": 17
        }
      ]
    },
    {
      "cell_type": "code",
      "metadata": {
        "id": "6Pk479RaJPlS"
      },
      "source": [
        "convert_sqft_to_num('4125Perch')"
      ],
      "execution_count": 18,
      "outputs": []
    },
    {
      "cell_type": "code",
      "metadata": {
        "colab": {
          "base_uri": "https://localhost:8080/",
          "height": 363
        },
        "id": "e76yU4DmJ-WL",
        "outputId": "5fd05fef-22fc-4976-82ec-8d24da590b21"
      },
      "source": [
        "# create a copy of your dataframe\n",
        "df3 = df2.copy()\n",
        "df3['total_sqft'] = df3['total_sqft'].apply(convert_sqft_to_num)\n",
        "df3.head(10)"
      ],
      "execution_count": 19,
      "outputs": [
        {
          "output_type": "execute_result",
          "data": {
            "text/html": [
              "<div>\n",
              "<style scoped>\n",
              "    .dataframe tbody tr th:only-of-type {\n",
              "        vertical-align: middle;\n",
              "    }\n",
              "\n",
              "    .dataframe tbody tr th {\n",
              "        vertical-align: top;\n",
              "    }\n",
              "\n",
              "    .dataframe thead th {\n",
              "        text-align: right;\n",
              "    }\n",
              "</style>\n",
              "<table border=\"1\" class=\"dataframe\">\n",
              "  <thead>\n",
              "    <tr style=\"text-align: right;\">\n",
              "      <th></th>\n",
              "      <th>location</th>\n",
              "      <th>size</th>\n",
              "      <th>total_sqft</th>\n",
              "      <th>bath</th>\n",
              "      <th>price</th>\n",
              "      <th>bhk</th>\n",
              "    </tr>\n",
              "  </thead>\n",
              "  <tbody>\n",
              "    <tr>\n",
              "      <th>0</th>\n",
              "      <td>Electronic City Phase II</td>\n",
              "      <td>2 BHK</td>\n",
              "      <td>1056.0</td>\n",
              "      <td>2.0</td>\n",
              "      <td>39.07</td>\n",
              "      <td>2</td>\n",
              "    </tr>\n",
              "    <tr>\n",
              "      <th>1</th>\n",
              "      <td>Chikka Tirupathi</td>\n",
              "      <td>4 Bedroom</td>\n",
              "      <td>2600.0</td>\n",
              "      <td>5.0</td>\n",
              "      <td>120.00</td>\n",
              "      <td>4</td>\n",
              "    </tr>\n",
              "    <tr>\n",
              "      <th>2</th>\n",
              "      <td>Uttarahalli</td>\n",
              "      <td>3 BHK</td>\n",
              "      <td>1440.0</td>\n",
              "      <td>2.0</td>\n",
              "      <td>62.00</td>\n",
              "      <td>3</td>\n",
              "    </tr>\n",
              "    <tr>\n",
              "      <th>3</th>\n",
              "      <td>Lingadheeranahalli</td>\n",
              "      <td>3 BHK</td>\n",
              "      <td>1521.0</td>\n",
              "      <td>3.0</td>\n",
              "      <td>95.00</td>\n",
              "      <td>3</td>\n",
              "    </tr>\n",
              "    <tr>\n",
              "      <th>4</th>\n",
              "      <td>Kothanur</td>\n",
              "      <td>2 BHK</td>\n",
              "      <td>1200.0</td>\n",
              "      <td>2.0</td>\n",
              "      <td>51.00</td>\n",
              "      <td>2</td>\n",
              "    </tr>\n",
              "    <tr>\n",
              "      <th>5</th>\n",
              "      <td>Whitefield</td>\n",
              "      <td>2 BHK</td>\n",
              "      <td>1170.0</td>\n",
              "      <td>2.0</td>\n",
              "      <td>38.00</td>\n",
              "      <td>2</td>\n",
              "    </tr>\n",
              "    <tr>\n",
              "      <th>6</th>\n",
              "      <td>Old Airport Road</td>\n",
              "      <td>4 BHK</td>\n",
              "      <td>2732.0</td>\n",
              "      <td>4.0</td>\n",
              "      <td>204.00</td>\n",
              "      <td>4</td>\n",
              "    </tr>\n",
              "    <tr>\n",
              "      <th>7</th>\n",
              "      <td>Rajaji Nagar</td>\n",
              "      <td>4 BHK</td>\n",
              "      <td>3300.0</td>\n",
              "      <td>4.0</td>\n",
              "      <td>600.00</td>\n",
              "      <td>4</td>\n",
              "    </tr>\n",
              "    <tr>\n",
              "      <th>8</th>\n",
              "      <td>Marathahalli</td>\n",
              "      <td>3 BHK</td>\n",
              "      <td>1310.0</td>\n",
              "      <td>3.0</td>\n",
              "      <td>63.25</td>\n",
              "      <td>3</td>\n",
              "    </tr>\n",
              "    <tr>\n",
              "      <th>9</th>\n",
              "      <td>Gandhi Bazar</td>\n",
              "      <td>6 Bedroom</td>\n",
              "      <td>1020.0</td>\n",
              "      <td>6.0</td>\n",
              "      <td>370.00</td>\n",
              "      <td>6</td>\n",
              "    </tr>\n",
              "  </tbody>\n",
              "</table>\n",
              "</div>"
            ],
            "text/plain": [
              "                   location       size  total_sqft  bath   price  bhk\n",
              "0  Electronic City Phase II      2 BHK      1056.0   2.0   39.07    2\n",
              "1          Chikka Tirupathi  4 Bedroom      2600.0   5.0  120.00    4\n",
              "2               Uttarahalli      3 BHK      1440.0   2.0   62.00    3\n",
              "3        Lingadheeranahalli      3 BHK      1521.0   3.0   95.00    3\n",
              "4                  Kothanur      2 BHK      1200.0   2.0   51.00    2\n",
              "5                Whitefield      2 BHK      1170.0   2.0   38.00    2\n",
              "6          Old Airport Road      4 BHK      2732.0   4.0  204.00    4\n",
              "7              Rajaji Nagar      4 BHK      3300.0   4.0  600.00    4\n",
              "8              Marathahalli      3 BHK      1310.0   3.0   63.25    3\n",
              "9              Gandhi Bazar  6 Bedroom      1020.0   6.0  370.00    6"
            ]
          },
          "metadata": {
            "tags": []
          },
          "execution_count": 19
        }
      ]
    },
    {
      "cell_type": "code",
      "metadata": {
        "colab": {
          "base_uri": "https://localhost:8080/"
        },
        "id": "_1gyu2TzKje8",
        "outputId": "8a3df189-8f1d-4a26-8128-41df55672c1f"
      },
      "source": [
        "df3.loc[30]"
      ],
      "execution_count": 20,
      "outputs": [
        {
          "output_type": "execute_result",
          "data": {
            "text/plain": [
              "location      Yelahanka\n",
              "size              4 BHK\n",
              "total_sqft         2475\n",
              "bath                  4\n",
              "price               186\n",
              "bhk                   4\n",
              "Name: 30, dtype: object"
            ]
          },
          "metadata": {
            "tags": []
          },
          "execution_count": 20
        }
      ]
    },
    {
      "cell_type": "code",
      "metadata": {
        "colab": {
          "base_uri": "https://localhost:8080/",
          "height": 206
        },
        "id": "gRzDHofTLDYP",
        "outputId": "58c42ae0-3363-48fd-ecb6-a6ef1ea85391"
      },
      "source": [
        "df4 = df3.copy()\n",
        "# price per sqft, create new feature to detect outlier detection\n",
        "df4['price_per_sqft'] = df4['price']*100000/df4['total_sqft']\n",
        "df4.head()"
      ],
      "execution_count": 21,
      "outputs": [
        {
          "output_type": "execute_result",
          "data": {
            "text/html": [
              "<div>\n",
              "<style scoped>\n",
              "    .dataframe tbody tr th:only-of-type {\n",
              "        vertical-align: middle;\n",
              "    }\n",
              "\n",
              "    .dataframe tbody tr th {\n",
              "        vertical-align: top;\n",
              "    }\n",
              "\n",
              "    .dataframe thead th {\n",
              "        text-align: right;\n",
              "    }\n",
              "</style>\n",
              "<table border=\"1\" class=\"dataframe\">\n",
              "  <thead>\n",
              "    <tr style=\"text-align: right;\">\n",
              "      <th></th>\n",
              "      <th>location</th>\n",
              "      <th>size</th>\n",
              "      <th>total_sqft</th>\n",
              "      <th>bath</th>\n",
              "      <th>price</th>\n",
              "      <th>bhk</th>\n",
              "      <th>price_per_sqft</th>\n",
              "    </tr>\n",
              "  </thead>\n",
              "  <tbody>\n",
              "    <tr>\n",
              "      <th>0</th>\n",
              "      <td>Electronic City Phase II</td>\n",
              "      <td>2 BHK</td>\n",
              "      <td>1056.0</td>\n",
              "      <td>2.0</td>\n",
              "      <td>39.07</td>\n",
              "      <td>2</td>\n",
              "      <td>3699.810606</td>\n",
              "    </tr>\n",
              "    <tr>\n",
              "      <th>1</th>\n",
              "      <td>Chikka Tirupathi</td>\n",
              "      <td>4 Bedroom</td>\n",
              "      <td>2600.0</td>\n",
              "      <td>5.0</td>\n",
              "      <td>120.00</td>\n",
              "      <td>4</td>\n",
              "      <td>4615.384615</td>\n",
              "    </tr>\n",
              "    <tr>\n",
              "      <th>2</th>\n",
              "      <td>Uttarahalli</td>\n",
              "      <td>3 BHK</td>\n",
              "      <td>1440.0</td>\n",
              "      <td>2.0</td>\n",
              "      <td>62.00</td>\n",
              "      <td>3</td>\n",
              "      <td>4305.555556</td>\n",
              "    </tr>\n",
              "    <tr>\n",
              "      <th>3</th>\n",
              "      <td>Lingadheeranahalli</td>\n",
              "      <td>3 BHK</td>\n",
              "      <td>1521.0</td>\n",
              "      <td>3.0</td>\n",
              "      <td>95.00</td>\n",
              "      <td>3</td>\n",
              "      <td>6245.890861</td>\n",
              "    </tr>\n",
              "    <tr>\n",
              "      <th>4</th>\n",
              "      <td>Kothanur</td>\n",
              "      <td>2 BHK</td>\n",
              "      <td>1200.0</td>\n",
              "      <td>2.0</td>\n",
              "      <td>51.00</td>\n",
              "      <td>2</td>\n",
              "      <td>4250.000000</td>\n",
              "    </tr>\n",
              "  </tbody>\n",
              "</table>\n",
              "</div>"
            ],
            "text/plain": [
              "                   location       size  total_sqft  ...   price  bhk  price_per_sqft\n",
              "0  Electronic City Phase II      2 BHK      1056.0  ...   39.07    2     3699.810606\n",
              "1          Chikka Tirupathi  4 Bedroom      2600.0  ...  120.00    4     4615.384615\n",
              "2               Uttarahalli      3 BHK      1440.0  ...   62.00    3     4305.555556\n",
              "3        Lingadheeranahalli      3 BHK      1521.0  ...   95.00    3     6245.890861\n",
              "4                  Kothanur      2 BHK      1200.0  ...   51.00    2     4250.000000\n",
              "\n",
              "[5 rows x 7 columns]"
            ]
          },
          "metadata": {
            "tags": []
          },
          "execution_count": 21
        }
      ]
    },
    {
      "cell_type": "code",
      "metadata": {
        "colab": {
          "base_uri": "https://localhost:8080/"
        },
        "id": "_lVEpuEbL0tf",
        "outputId": "fc3b94ab-15a3-4f84-ec55-1dcda34feed7"
      },
      "source": [
        "# Total number of locations\n",
        "# As there are 1300 locations these are a lot of cols for one hot encoding as well.\n",
        "# So we categorize, if only 1 row for location we name it others\n",
        "len(df4.location.unique())"
      ],
      "execution_count": 22,
      "outputs": [
        {
          "output_type": "execute_result",
          "data": {
            "text/plain": [
              "1304"
            ]
          },
          "metadata": {
            "tags": []
          },
          "execution_count": 22
        }
      ]
    },
    {
      "cell_type": "code",
      "metadata": {
        "colab": {
          "base_uri": "https://localhost:8080/"
        },
        "id": "0dJZCjseMe5R",
        "outputId": "55383d7f-9d7a-4bc3-ee3a-538f6907574b"
      },
      "source": [
        "df4.location = df4.location.apply(lambda x: x.strip())\n",
        "location_stats = df4.groupby('location')['location'].agg('count').sort_values(ascending=False)\n",
        "location_stats"
      ],
      "execution_count": 23,
      "outputs": [
        {
          "output_type": "execute_result",
          "data": {
            "text/plain": [
              "location\n",
              "Whitefield           535\n",
              "Sarjapur  Road       392\n",
              "Electronic City      304\n",
              "Kanakpura Road       266\n",
              "Thanisandra          236\n",
              "                    ... \n",
              "LIC Colony             1\n",
              "Kuvempu Layout         1\n",
              "Kumbhena Agrahara      1\n",
              "Kudlu Village,         1\n",
              "1 Annasandrapalya      1\n",
              "Name: location, Length: 1293, dtype: int64"
            ]
          },
          "metadata": {
            "tags": []
          },
          "execution_count": 23
        }
      ]
    },
    {
      "cell_type": "code",
      "metadata": {
        "colab": {
          "base_uri": "https://localhost:8080/"
        },
        "id": "l0zIGLFmOjGd",
        "outputId": "4ee64770-9e89-4438-a894-26c341f70379"
      },
      "source": [
        "# For locations < 10 homes we put in others\n",
        "len(location_stats[location_stats<=10])"
      ],
      "execution_count": 24,
      "outputs": [
        {
          "output_type": "execute_result",
          "data": {
            "text/plain": [
              "1052"
            ]
          },
          "metadata": {
            "tags": []
          },
          "execution_count": 24
        }
      ]
    },
    {
      "cell_type": "code",
      "metadata": {
        "colab": {
          "base_uri": "https://localhost:8080/"
        },
        "id": "A5GXcFV1O4om",
        "outputId": "9fcb710a-8fb9-4105-8d9b-6171dedff3d0"
      },
      "source": [
        "locations_less_than_10 = location_stats[location_stats<=10]\n",
        "locations_less_than_10"
      ],
      "execution_count": 25,
      "outputs": [
        {
          "output_type": "execute_result",
          "data": {
            "text/plain": [
              "location\n",
              "BTM 1st Stage          10\n",
              "Basapura               10\n",
              "Sector 1 HSR Layout    10\n",
              "Naganathapura          10\n",
              "Kalkere                10\n",
              "                       ..\n",
              "LIC Colony              1\n",
              "Kuvempu Layout          1\n",
              "Kumbhena Agrahara       1\n",
              "Kudlu Village,          1\n",
              "1 Annasandrapalya       1\n",
              "Name: location, Length: 1052, dtype: int64"
            ]
          },
          "metadata": {
            "tags": []
          },
          "execution_count": 25
        }
      ]
    },
    {
      "cell_type": "code",
      "metadata": {
        "colab": {
          "base_uri": "https://localhost:8080/"
        },
        "id": "PjGQRsnVPVtx",
        "outputId": "a0ab12d2-2254-4c06-a398-10fd3d8c1967"
      },
      "source": [
        "len(df4.location.unique())"
      ],
      "execution_count": 26,
      "outputs": [
        {
          "output_type": "execute_result",
          "data": {
            "text/plain": [
              "1293"
            ]
          },
          "metadata": {
            "tags": []
          },
          "execution_count": 26
        }
      ]
    },
    {
      "cell_type": "code",
      "metadata": {
        "colab": {
          "base_uri": "https://localhost:8080/",
          "height": 206
        },
        "id": "iAn0yIk4Pcv9",
        "outputId": "4d0988c7-6d55-4a47-a57f-d0d8b87ecb58"
      },
      "source": [
        "df4.location = df4.location.apply(lambda x: 'others' if x in locations_less_than_10 else x)\n",
        "df4.head()"
      ],
      "execution_count": 27,
      "outputs": [
        {
          "output_type": "execute_result",
          "data": {
            "text/html": [
              "<div>\n",
              "<style scoped>\n",
              "    .dataframe tbody tr th:only-of-type {\n",
              "        vertical-align: middle;\n",
              "    }\n",
              "\n",
              "    .dataframe tbody tr th {\n",
              "        vertical-align: top;\n",
              "    }\n",
              "\n",
              "    .dataframe thead th {\n",
              "        text-align: right;\n",
              "    }\n",
              "</style>\n",
              "<table border=\"1\" class=\"dataframe\">\n",
              "  <thead>\n",
              "    <tr style=\"text-align: right;\">\n",
              "      <th></th>\n",
              "      <th>location</th>\n",
              "      <th>size</th>\n",
              "      <th>total_sqft</th>\n",
              "      <th>bath</th>\n",
              "      <th>price</th>\n",
              "      <th>bhk</th>\n",
              "      <th>price_per_sqft</th>\n",
              "    </tr>\n",
              "  </thead>\n",
              "  <tbody>\n",
              "    <tr>\n",
              "      <th>0</th>\n",
              "      <td>Electronic City Phase II</td>\n",
              "      <td>2 BHK</td>\n",
              "      <td>1056.0</td>\n",
              "      <td>2.0</td>\n",
              "      <td>39.07</td>\n",
              "      <td>2</td>\n",
              "      <td>3699.810606</td>\n",
              "    </tr>\n",
              "    <tr>\n",
              "      <th>1</th>\n",
              "      <td>Chikka Tirupathi</td>\n",
              "      <td>4 Bedroom</td>\n",
              "      <td>2600.0</td>\n",
              "      <td>5.0</td>\n",
              "      <td>120.00</td>\n",
              "      <td>4</td>\n",
              "      <td>4615.384615</td>\n",
              "    </tr>\n",
              "    <tr>\n",
              "      <th>2</th>\n",
              "      <td>Uttarahalli</td>\n",
              "      <td>3 BHK</td>\n",
              "      <td>1440.0</td>\n",
              "      <td>2.0</td>\n",
              "      <td>62.00</td>\n",
              "      <td>3</td>\n",
              "      <td>4305.555556</td>\n",
              "    </tr>\n",
              "    <tr>\n",
              "      <th>3</th>\n",
              "      <td>Lingadheeranahalli</td>\n",
              "      <td>3 BHK</td>\n",
              "      <td>1521.0</td>\n",
              "      <td>3.0</td>\n",
              "      <td>95.00</td>\n",
              "      <td>3</td>\n",
              "      <td>6245.890861</td>\n",
              "    </tr>\n",
              "    <tr>\n",
              "      <th>4</th>\n",
              "      <td>Kothanur</td>\n",
              "      <td>2 BHK</td>\n",
              "      <td>1200.0</td>\n",
              "      <td>2.0</td>\n",
              "      <td>51.00</td>\n",
              "      <td>2</td>\n",
              "      <td>4250.000000</td>\n",
              "    </tr>\n",
              "  </tbody>\n",
              "</table>\n",
              "</div>"
            ],
            "text/plain": [
              "                   location       size  total_sqft  ...   price  bhk  price_per_sqft\n",
              "0  Electronic City Phase II      2 BHK      1056.0  ...   39.07    2     3699.810606\n",
              "1          Chikka Tirupathi  4 Bedroom      2600.0  ...  120.00    4     4615.384615\n",
              "2               Uttarahalli      3 BHK      1440.0  ...   62.00    3     4305.555556\n",
              "3        Lingadheeranahalli      3 BHK      1521.0  ...   95.00    3     6245.890861\n",
              "4                  Kothanur      2 BHK      1200.0  ...   51.00    2     4250.000000\n",
              "\n",
              "[5 rows x 7 columns]"
            ]
          },
          "metadata": {
            "tags": []
          },
          "execution_count": 27
        }
      ]
    },
    {
      "cell_type": "code",
      "metadata": {
        "colab": {
          "base_uri": "https://localhost:8080/"
        },
        "id": "aKZgsZJdQZTg",
        "outputId": "7f2aa756-2dcb-4a48-b7ac-f907140c193f"
      },
      "source": [
        "len(df4.location.unique())"
      ],
      "execution_count": 28,
      "outputs": [
        {
          "output_type": "execute_result",
          "data": {
            "text/plain": [
              "242"
            ]
          },
          "metadata": {
            "tags": []
          },
          "execution_count": 28
        }
      ]
    },
    {
      "cell_type": "markdown",
      "metadata": {
        "id": "L6IBBsGTQwwa"
      },
      "source": [
        "**Outliers Detection**\n",
        "______________________________________________\n",
        "\n",
        "We check the relation between sqft and BHK. \n",
        "Have a threshold below which that data is to be removed.\n",
        "\n",
        "Say total sqft/ bhk value is 300, anything below this is an outlier"
      ]
    },
    {
      "cell_type": "code",
      "metadata": {
        "colab": {
          "base_uri": "https://localhost:8080/",
          "height": 206
        },
        "id": "C8aXdcZVQ3JZ",
        "outputId": "1cf14c5f-8253-47b0-da25-8eea8e308178"
      },
      "source": [
        "df4[df4.total_sqft/df4.bhk<300].head()"
      ],
      "execution_count": 29,
      "outputs": [
        {
          "output_type": "execute_result",
          "data": {
            "text/html": [
              "<div>\n",
              "<style scoped>\n",
              "    .dataframe tbody tr th:only-of-type {\n",
              "        vertical-align: middle;\n",
              "    }\n",
              "\n",
              "    .dataframe tbody tr th {\n",
              "        vertical-align: top;\n",
              "    }\n",
              "\n",
              "    .dataframe thead th {\n",
              "        text-align: right;\n",
              "    }\n",
              "</style>\n",
              "<table border=\"1\" class=\"dataframe\">\n",
              "  <thead>\n",
              "    <tr style=\"text-align: right;\">\n",
              "      <th></th>\n",
              "      <th>location</th>\n",
              "      <th>size</th>\n",
              "      <th>total_sqft</th>\n",
              "      <th>bath</th>\n",
              "      <th>price</th>\n",
              "      <th>bhk</th>\n",
              "      <th>price_per_sqft</th>\n",
              "    </tr>\n",
              "  </thead>\n",
              "  <tbody>\n",
              "    <tr>\n",
              "      <th>9</th>\n",
              "      <td>others</td>\n",
              "      <td>6 Bedroom</td>\n",
              "      <td>1020.0</td>\n",
              "      <td>6.0</td>\n",
              "      <td>370.0</td>\n",
              "      <td>6</td>\n",
              "      <td>36274.509804</td>\n",
              "    </tr>\n",
              "    <tr>\n",
              "      <th>45</th>\n",
              "      <td>HSR Layout</td>\n",
              "      <td>8 Bedroom</td>\n",
              "      <td>600.0</td>\n",
              "      <td>9.0</td>\n",
              "      <td>200.0</td>\n",
              "      <td>8</td>\n",
              "      <td>33333.333333</td>\n",
              "    </tr>\n",
              "    <tr>\n",
              "      <th>58</th>\n",
              "      <td>Murugeshpalya</td>\n",
              "      <td>6 Bedroom</td>\n",
              "      <td>1407.0</td>\n",
              "      <td>4.0</td>\n",
              "      <td>150.0</td>\n",
              "      <td>6</td>\n",
              "      <td>10660.980810</td>\n",
              "    </tr>\n",
              "    <tr>\n",
              "      <th>68</th>\n",
              "      <td>Devarachikkanahalli</td>\n",
              "      <td>8 Bedroom</td>\n",
              "      <td>1350.0</td>\n",
              "      <td>7.0</td>\n",
              "      <td>85.0</td>\n",
              "      <td>8</td>\n",
              "      <td>6296.296296</td>\n",
              "    </tr>\n",
              "    <tr>\n",
              "      <th>70</th>\n",
              "      <td>others</td>\n",
              "      <td>3 Bedroom</td>\n",
              "      <td>500.0</td>\n",
              "      <td>3.0</td>\n",
              "      <td>100.0</td>\n",
              "      <td>3</td>\n",
              "      <td>20000.000000</td>\n",
              "    </tr>\n",
              "  </tbody>\n",
              "</table>\n",
              "</div>"
            ],
            "text/plain": [
              "               location       size  total_sqft  ...  price  bhk  price_per_sqft\n",
              "9                others  6 Bedroom      1020.0  ...  370.0    6    36274.509804\n",
              "45           HSR Layout  8 Bedroom       600.0  ...  200.0    8    33333.333333\n",
              "58        Murugeshpalya  6 Bedroom      1407.0  ...  150.0    6    10660.980810\n",
              "68  Devarachikkanahalli  8 Bedroom      1350.0  ...   85.0    8     6296.296296\n",
              "70               others  3 Bedroom       500.0  ...  100.0    3    20000.000000\n",
              "\n",
              "[5 rows x 7 columns]"
            ]
          },
          "metadata": {
            "tags": []
          },
          "execution_count": 29
        }
      ]
    },
    {
      "cell_type": "code",
      "metadata": {
        "colab": {
          "base_uri": "https://localhost:8080/"
        },
        "id": "Gj_yZsdLSjWJ",
        "outputId": "f5d4bfe3-b671-4009-b509-77564a3f1338"
      },
      "source": [
        "df4.shape"
      ],
      "execution_count": 30,
      "outputs": [
        {
          "output_type": "execute_result",
          "data": {
            "text/plain": [
              "(13246, 7)"
            ]
          },
          "metadata": {
            "tags": []
          },
          "execution_count": 30
        }
      ]
    },
    {
      "cell_type": "code",
      "metadata": {
        "colab": {
          "base_uri": "https://localhost:8080/"
        },
        "id": "qUsf2TRSTbDF",
        "outputId": "8c07fdf0-aa44-4e6b-f3e2-79875b8f8244"
      },
      "source": [
        "df5 = df4[~(df4.total_sqft/df4.bhk<300)]\n",
        "df5.shape"
      ],
      "execution_count": 31,
      "outputs": [
        {
          "output_type": "execute_result",
          "data": {
            "text/plain": [
              "(12502, 7)"
            ]
          },
          "metadata": {
            "tags": []
          },
          "execution_count": 31
        }
      ]
    },
    {
      "cell_type": "code",
      "metadata": {
        "colab": {
          "base_uri": "https://localhost:8080/"
        },
        "id": "wCjyMbCRTn-N",
        "outputId": "441d1f7f-9af9-45ce-d00e-eeba966576ad"
      },
      "source": [
        "df5.price_per_sqft.describe()"
      ],
      "execution_count": 32,
      "outputs": [
        {
          "output_type": "execute_result",
          "data": {
            "text/plain": [
              "count     12456.000000\n",
              "mean       6308.502826\n",
              "std        4168.127339\n",
              "min         267.829813\n",
              "25%        4210.526316\n",
              "50%        5294.117647\n",
              "75%        6916.666667\n",
              "max      176470.588235\n",
              "Name: price_per_sqft, dtype: float64"
            ]
          },
          "metadata": {
            "tags": []
          },
          "execution_count": 32
        }
      ]
    },
    {
      "cell_type": "code",
      "metadata": {
        "colab": {
          "base_uri": "https://localhost:8080/"
        },
        "id": "vn7zsvwCVd3q",
        "outputId": "16e09607-88f7-408e-deb4-cecf5838ad2d"
      },
      "source": [
        "def remove_pps_outliers(df):\n",
        "  df_out = pd.DataFrame()\n",
        "  for key,subdf in df.groupby('location'):\n",
        "    m = np.mean(subdf.price_per_sqft)\n",
        "    st = np.std(subdf.price_per_sqft)\n",
        "    reduced_df = subdf[(subdf.price_per_sqft>(m-st)) & (subdf.price_per_sqft<=(m+st))]\n",
        "    df_out = pd.concat([df_out,reduced_df], ignore_index=True)\n",
        "  return df_out\n",
        "\n",
        "df6 = remove_pps_outliers(df5)\n",
        "df6.shape"
      ],
      "execution_count": 33,
      "outputs": [
        {
          "output_type": "execute_result",
          "data": {
            "text/plain": [
              "(10241, 7)"
            ]
          },
          "metadata": {
            "tags": []
          },
          "execution_count": 33
        }
      ]
    },
    {
      "cell_type": "markdown",
      "metadata": {
        "id": "olYyra8pWzCg"
      },
      "source": [
        "Another Anomaly : **For the same sqft, some 2 BHK cost more than 3 BHK**\n",
        "![image.png](data:image/png;base64,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)"
      ]
    },
    {
      "cell_type": "markdown",
      "metadata": {
        "id": "2SuoIX8cOb04"
      },
      "source": [
        "Create a Scatter plot to visualize the anomalies:"
      ]
    },
    {
      "cell_type": "code",
      "metadata": {
        "colab": {
          "base_uri": "https://localhost:8080/",
          "height": 580
        },
        "id": "zhmE8t12XRXl",
        "outputId": "66dc78f4-f0cf-4a3d-c356-677f309b859c"
      },
      "source": [
        "def plot_scatter_chart(df,location):\n",
        "  bhk2 = df[(df.location == location) & (df.bhk == 2)]\n",
        "  bhk3 = df[(df.location == location) & (df.bhk == 3)]\n",
        "  matplotlib.rcParams['figure.figsize'] = (15,10)\n",
        "  plt.scatter(bhk2.total_sqft, bhk2.price, color='blue', label='2 BHK', s=50)\n",
        "  plt.scatter(bhk3.total_sqft, bhk3.price, marker = '+',color='green', label='3 BHK', s=50)\n",
        "  plt.xlabel('Total sqft Area');\n",
        "  plt.ylabel('Price')\n",
        "  plt.title(location)\n",
        "  plt.legend()\n",
        "\n",
        "\n",
        "plot_scatter_chart(df6, 'Rajaji Nagar')"
      ],
      "execution_count": 34,
      "outputs": [
        {
          "output_type": "display_data",
          "data": {
            "image/png": "[encoded data removed]",
            "text/plain": [
              "<Figure size 1080x720 with 1 Axes>"
            ]
          },
          "metadata": {
            "tags": [],
            "needs_background": "light"
          }
        }
      ]
    },
    {
      "cell_type": "markdown",
      "metadata": {
        "id": "Zbesgh_mRO0f"
      },
      "source": [
        "**We should also remove properties where for the same location, the price of(for example) 3 bedroom apartment is less than 2 bedroom apartment(with same sqft area).**\n",
        "\n",
        "**What we will do is for a given location, we will build a disctionary of stats per BHK**, ie.,\n",
        "```\n",
        "{\n",
        "\n",
        "  '1' : {\n",
        "    'mean' : 4000,\n",
        "    'std': 2000,\n",
        "    'count': 34\n",
        "  },\n",
        "  '2': {\n",
        "    'mean' : 4300,\n",
        "    'std': 2300,\n",
        "    'count': 22\n",
        "  },\n",
        "}\n",
        "\n",
        "```\n",
        "Now we can remove those 2 BHK apartments whose:\n",
        "\n",
        " ```price_per_sqft < mean price_per_sqft of 1 BHK```\n"
      ]
    },
    {
      "cell_type": "code",
      "metadata": {
        "id": "on9Ttp8iStAX",
        "colab": {
          "base_uri": "https://localhost:8080/",
          "height": 206
        },
        "outputId": "dc001f4d-1bea-4529-e27c-be452dc2c382"
      },
      "source": [
        "def remove_bhk_outlier(df):\n",
        "\n",
        "  exclude_indices = np.array([])\n",
        "  for location, location_df in df.groupby('location'):\n",
        "    bhk_stats={}\n",
        "    for bhk, bhk_df in location_df.groupby('bhk'):\n",
        "      # for each bhk cal the stats - mean, sd, count\n",
        "      bhk_stats[bhk] = {\n",
        "          'mean' : np.mean(bhk_df.price_per_sqft),\n",
        "          'sd' : np.std(bhk_df.price_per_sqft),\n",
        "          'count': bhk_df.shape[0]\n",
        "      }\n",
        "    for bhk, bhk_df in location_df.groupby('bhk'):\n",
        "      stats = bhk_stats.get(bhk-1)\n",
        "      if stats and stats['count'] > 5:\n",
        "        exclude_indices = np.append(exclude_indices, bhk_df[bhk_df.price_per_sqft<(stats['mean'])].index.values)\n",
        "  return df.drop(exclude_indices, axis='index')\n",
        "\n",
        "df7 = remove_bhk_outlier(df6)\n",
        "df7.shape\n",
        "df7.head()\n"
      ],
      "execution_count": 42,
      "outputs": [
        {
          "output_type": "execute_result",
          "data": {
            "text/html": [
              "<div>\n",
              "<style scoped>\n",
              "    .dataframe tbody tr th:only-of-type {\n",
              "        vertical-align: middle;\n",
              "    }\n",
              "\n",
              "    .dataframe tbody tr th {\n",
              "        vertical-align: top;\n",
              "    }\n",
              "\n",
              "    .dataframe thead th {\n",
              "        text-align: right;\n",
              "    }\n",
              "</style>\n",
              "<table border=\"1\" class=\"dataframe\">\n",
              "  <thead>\n",
              "    <tr style=\"text-align: right;\">\n",
              "      <th></th>\n",
              "      <th>location</th>\n",
              "      <th>size</th>\n",
              "      <th>total_sqft</th>\n",
              "      <th>bath</th>\n",
              "      <th>price</th>\n",
              "      <th>bhk</th>\n",
              "      <th>price_per_sqft</th>\n",
              "    </tr>\n",
              "  </thead>\n",
              "  <tbody>\n",
              "    <tr>\n",
              "      <th>0</th>\n",
              "      <td>1st Block Jayanagar</td>\n",
              "      <td>4 BHK</td>\n",
              "      <td>2850.0</td>\n",
              "      <td>4.0</td>\n",
              "      <td>428.0</td>\n",
              "      <td>4</td>\n",
              "      <td>15017.543860</td>\n",
              "    </tr>\n",
              "    <tr>\n",
              "      <th>1</th>\n",
              "      <td>1st Block Jayanagar</td>\n",
              "      <td>3 BHK</td>\n",
              "      <td>1630.0</td>\n",
              "      <td>3.0</td>\n",
              "      <td>194.0</td>\n",
              "      <td>3</td>\n",
              "      <td>11901.840491</td>\n",
              "    </tr>\n",
              "    <tr>\n",
              "      <th>2</th>\n",
              "      <td>1st Block Jayanagar</td>\n",
              "      <td>3 BHK</td>\n",
              "      <td>1875.0</td>\n",
              "      <td>2.0</td>\n",
              "      <td>235.0</td>\n",
              "      <td>3</td>\n",
              "      <td>12533.333333</td>\n",
              "    </tr>\n",
              "    <tr>\n",
              "      <th>3</th>\n",
              "      <td>1st Block Jayanagar</td>\n",
              "      <td>3 BHK</td>\n",
              "      <td>1200.0</td>\n",
              "      <td>2.0</td>\n",
              "      <td>130.0</td>\n",
              "      <td>3</td>\n",
              "      <td>10833.333333</td>\n",
              "    </tr>\n",
              "    <tr>\n",
              "      <th>4</th>\n",
              "      <td>1st Block Jayanagar</td>\n",
              "      <td>2 BHK</td>\n",
              "      <td>1235.0</td>\n",
              "      <td>2.0</td>\n",
              "      <td>148.0</td>\n",
              "      <td>2</td>\n",
              "      <td>11983.805668</td>\n",
              "    </tr>\n",
              "  </tbody>\n",
              "</table>\n",
              "</div>"
            ],
            "text/plain": [
              "              location   size  total_sqft  bath  price  bhk  price_per_sqft\n",
              "0  1st Block Jayanagar  4 BHK      2850.0   4.0  428.0    4    15017.543860\n",
              "1  1st Block Jayanagar  3 BHK      1630.0   3.0  194.0    3    11901.840491\n",
              "2  1st Block Jayanagar  3 BHK      1875.0   2.0  235.0    3    12533.333333\n",
              "3  1st Block Jayanagar  3 BHK      1200.0   2.0  130.0    3    10833.333333\n",
              "4  1st Block Jayanagar  2 BHK      1235.0   2.0  148.0    2    11983.805668"
            ]
          },
          "metadata": {
            "tags": []
          },
          "execution_count": 42
        }
      ]
    },
    {
      "cell_type": "code",
      "metadata": {
        "colab": {
          "base_uri": "https://localhost:8080/",
          "height": 580
        },
        "id": "1LczqRVaQLxc",
        "outputId": "d56096c4-d7c7-4c33-f4f2-9a4ab333de96"
      },
      "source": [
        "plot_scatter_chart(df7, 'Rajaji Nagar')"
      ],
      "execution_count": 43,
      "outputs": [
        {
          "output_type": "display_data",
          "data": {
            "image/png": "[encoded data removed]",
            "text/plain": [
              "<Figure size 1080x720 with 1 Axes>"
            ]
          },
          "metadata": {
            "tags": [],
            "needs_background": "light"
          }
        }
      ]
    },
    {
      "cell_type": "code",
      "metadata": {
        "colab": {
          "base_uri": "https://localhost:8080/",
          "height": 452
        },
        "id": "k1_zk_sYQslE",
        "outputId": "a33d5f1f-694c-42c7-c5f8-76b232f641b9"
      },
      "source": [
        "import matplotlib\n",
        "matplotlib.rcParams[\"figure.figsize\"] = (20,10)\n",
        "plt.hist(df7.price_per_sqft, rwidth=0.8)\n",
        "plt.xlabel(\"Price Per Square Feet\")\n",
        "plt.ylabel(\"Count\")\n",
        "\n",
        "# We find majority of prices between 0-10000, so its a normal distribution"
      ],
      "execution_count": 44,
      "outputs": [
        {
          "output_type": "execute_result",
          "data": {
            "text/plain": [
              "Text(0, 0.5, 'Count')"
            ]
          },
          "metadata": {
            "tags": []
          },
          "execution_count": 44
        },
        {
          "output_type": "display_data",
          "data": {
            "image/png": "[encoded data removed]",
            "text/plain": [
              "<Figure size 1440x720 with 1 Axes>"
            ]
          },
          "metadata": {
            "tags": [],
            "needs_background": "light"
          }
        }
      ]
    },
    {
      "cell_type": "code",
      "metadata": {
        "colab": {
          "base_uri": "https://localhost:8080/"
        },
        "id": "6m3AB0b8RVmy",
        "outputId": "4692e761-51db-41d4-bd02-83f1eb1ab999"
      },
      "source": [
        "# Now lets see some stats for bath rooms\n",
        "df7.bath.unique()"
      ],
      "execution_count": 45,
      "outputs": [
        {
          "output_type": "execute_result",
          "data": {
            "text/plain": [
              "array([ 4.,  3.,  2.,  5.,  8.,  1.,  6.,  7.,  9., 12., 16., 13.])"
            ]
          },
          "metadata": {
            "tags": []
          },
          "execution_count": 45
        }
      ]
    },
    {
      "cell_type": "code",
      "metadata": {
        "colab": {
          "base_uri": "https://localhost:8080/",
          "height": 206
        },
        "id": "eXQIdmR0Rh9q",
        "outputId": "5ebaf674-633f-47e4-c626-4b17a83c85bc"
      },
      "source": [
        "# We can see for some properties having more than 10 bathrooms \n",
        "# it makes sense given the Square foot area\n",
        "df7[df7.bath>10]\n",
        "\n",
        "# So we remove outliers for bathrooms where - Number of Bathrooms = 2 * Number of Bathrooms + 2\n",
        "# Say 2 bedroom apartment, max bathrooms acceptable is 2*2+2 => 4 bathrooms"
      ],
      "execution_count": 48,
      "outputs": [
        {
          "output_type": "execute_result",
          "data": {
            "text/html": [
              "<div>\n",
              "<style scoped>\n",
              "    .dataframe tbody tr th:only-of-type {\n",
              "        vertical-align: middle;\n",
              "    }\n",
              "\n",
              "    .dataframe tbody tr th {\n",
              "        vertical-align: top;\n",
              "    }\n",
              "\n",
              "    .dataframe thead th {\n",
              "        text-align: right;\n",
              "    }\n",
              "</style>\n",
              "<table border=\"1\" class=\"dataframe\">\n",
              "  <thead>\n",
              "    <tr style=\"text-align: right;\">\n",
              "      <th></th>\n",
              "      <th>location</th>\n",
              "      <th>size</th>\n",
              "      <th>total_sqft</th>\n",
              "      <th>bath</th>\n",
              "      <th>price</th>\n",
              "      <th>bhk</th>\n",
              "      <th>price_per_sqft</th>\n",
              "    </tr>\n",
              "  </thead>\n",
              "  <tbody>\n",
              "    <tr>\n",
              "      <th>5277</th>\n",
              "      <td>Neeladri Nagar</td>\n",
              "      <td>10 BHK</td>\n",
              "      <td>4000.0</td>\n",
              "      <td>12.0</td>\n",
              "      <td>160.0</td>\n",
              "      <td>10</td>\n",
              "      <td>4000.000000</td>\n",
              "    </tr>\n",
              "    <tr>\n",
              "      <th>8486</th>\n",
              "      <td>others</td>\n",
              "      <td>10 BHK</td>\n",
              "      <td>12000.0</td>\n",
              "      <td>12.0</td>\n",
              "      <td>525.0</td>\n",
              "      <td>10</td>\n",
              "      <td>4375.000000</td>\n",
              "    </tr>\n",
              "    <tr>\n",
              "      <th>8575</th>\n",
              "      <td>others</td>\n",
              "      <td>16 BHK</td>\n",
              "      <td>10000.0</td>\n",
              "      <td>16.0</td>\n",
              "      <td>550.0</td>\n",
              "      <td>16</td>\n",
              "      <td>5500.000000</td>\n",
              "    </tr>\n",
              "    <tr>\n",
              "      <th>9308</th>\n",
              "      <td>others</td>\n",
              "      <td>11 BHK</td>\n",
              "      <td>6000.0</td>\n",
              "      <td>12.0</td>\n",
              "      <td>150.0</td>\n",
              "      <td>11</td>\n",
              "      <td>2500.000000</td>\n",
              "    </tr>\n",
              "    <tr>\n",
              "      <th>9639</th>\n",
              "      <td>others</td>\n",
              "      <td>13 BHK</td>\n",
              "      <td>5425.0</td>\n",
              "      <td>13.0</td>\n",
              "      <td>275.0</td>\n",
              "      <td>13</td>\n",
              "      <td>5069.124424</td>\n",
              "    </tr>\n",
              "  </tbody>\n",
              "</table>\n",
              "</div>"
            ],
            "text/plain": [
              "            location    size  total_sqft  bath  price  bhk  price_per_sqft\n",
              "5277  Neeladri Nagar  10 BHK      4000.0  12.0  160.0   10     4000.000000\n",
              "8486          others  10 BHK     12000.0  12.0  525.0   10     4375.000000\n",
              "8575          others  16 BHK     10000.0  16.0  550.0   16     5500.000000\n",
              "9308          others  11 BHK      6000.0  12.0  150.0   11     2500.000000\n",
              "9639          others  13 BHK      5425.0  13.0  275.0   13     5069.124424"
            ]
          },
          "metadata": {
            "tags": []
          },
          "execution_count": 48
        }
      ]
    },
    {
      "cell_type": "code",
      "metadata": {
        "colab": {
          "base_uri": "https://localhost:8080/",
          "height": 454
        },
        "id": "I3NF5EKrRm5a",
        "outputId": "4349d8f5-fc6e-45ab-f565-07238b87598e"
      },
      "source": [
        "plt.hist(df7.bath, rwidth=0.8)\n",
        "plt.xlabel(\"No. of Bathrooms\")\n",
        "plt.ylabel(\"Count\")"
      ],
      "execution_count": 49,
      "outputs": [
        {
          "output_type": "execute_result",
          "data": {
            "text/plain": [
              "Text(0, 0.5, 'Count')"
            ]
          },
          "metadata": {
            "tags": []
          },
          "execution_count": 49
        },
        {
          "output_type": "display_data",
          "data": {
            "image/png": "[encoded data removed]",
            "text/plain": [
              "<Figure size 1440x720 with 1 Axes>"
            ]
          },
          "metadata": {
            "tags": [],
            "needs_background": "light"
          }
        }
      ]
    }
  ]
}